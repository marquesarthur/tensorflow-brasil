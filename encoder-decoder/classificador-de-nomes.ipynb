{
 "cells": [
  {
   "cell_type": "markdown",
   "metadata": {},
   "source": [
    "## Intro\n",
    "\n",
    "Este tutorial é basedao nos tutoriais de [Pytorch](https://pytorch.org/tutorials/intermediate/char_rnn_classification_tutorial.html) de mesmo nome.\n",
    "\n",
    "## Dados\n",
    "\n",
    "Baixe os dados [aqui](https://download.pytorch.org/tutorial/data.zip)\n",
    "\n",
    "No diretório, existem 18 arquivos com nomes em várias línguas, um nome por língua (mas ainda é necesário converter os nomes do formato Unicode para ASCII)\n",
    "\n",
    "Isto irá gerar um dicionário com um idioma e nomes comuns aquele idioma."
   ]
  },
  {
   "cell_type": "code",
   "execution_count": 2,
   "metadata": {},
   "outputs": [
    {
     "name": "stdout",
     "output_type": "stream",
     "text": [
      "['data/names/Czech.txt', 'data/names/German.txt', 'data/names/Arabic.txt', 'data/names/Japanese.txt', 'data/names/Chinese.txt', 'data/names/Vietnamese.txt', 'data/names/Russian.txt', 'data/names/French.txt', 'data/names/Irish.txt', 'data/names/English.txt', 'data/names/Spanish.txt', 'data/names/Greek.txt', 'data/names/Italian.txt', 'data/names/Portuguese.txt', 'data/names/Scottish.txt', 'data/names/Dutch.txt', 'data/names/Korean.txt', 'data/names/Polish.txt']\n",
      "Slusarski\n",
      "['Abandonato', 'Abatangelo', 'Abatantuono', 'Abate', 'Abategiovanni']\n"
     ]
    }
   ],
   "source": [
    "from __future__ import unicode_literals, print_function, division\n",
    "from io import open\n",
    "import glob\n",
    "import os\n",
    "\n",
    "def findFiles(path): return glob.glob(path)\n",
    "\n",
    "print(findFiles('data/names/*.txt'))\n",
    "\n",
    "import unicodedata\n",
    "import string\n",
    "\n",
    "all_letters = string.ascii_letters + \" .,;'\"\n",
    "n_letters = len(all_letters)\n",
    "\n",
    "# Turn a Unicode string to plain ASCII, thanks to https://stackoverflow.com/a/518232/2809427\n",
    "def unicodeToAscii(s):\n",
    "    return ''.join(\n",
    "        c for c in unicodedata.normalize('NFD', s)\n",
    "        if unicodedata.category(c) != 'Mn'\n",
    "        and c in all_letters\n",
    "    )\n",
    "\n",
    "print(unicodeToAscii('Ślusàrski'))\n",
    "\n",
    "# Build the category_lines dictionary, a list of names per language\n",
    "category_lines = {}\n",
    "all_categories = []\n",
    "\n",
    "# Read a file and split into lines\n",
    "def readLines(filename):\n",
    "    lines = open(filename, encoding='utf-8').read().strip().split('\\n')\n",
    "    return [unicodeToAscii(line) for line in lines]\n",
    "\n",
    "for filename in findFiles('data/names/*.txt'):\n",
    "    category = os.path.splitext(os.path.basename(filename))[0]\n",
    "    all_categories.append(category)\n",
    "    lines = readLines(filename)\n",
    "    category_lines[category] = lines\n",
    "\n",
    "n_categories = len(all_categories)\n",
    "print(category_lines['Italian'][:5])"
   ]
  },
  {
   "cell_type": "markdown",
   "metadata": {},
   "source": [
    "## Representando palavras em Tensors\n",
    "\n",
    "Agora que temos um dicionário com idiomas e nomes, é necessário converter nossos dados para o formato de Tensors.\n",
    "\n",
    "Para representar um caractére, precisamos um um vetor de tamanho `1 x qtde_caracteres`. Esse vetor pode ser chamado de `one-hot vector` porque ele indica como quente/frio os caracteres que aparecem em uma palavra. Por exemplo, o vetor quente para o caractere b seria algo como `\"b\" = <0 1 0 0 0 ...>`\n",
    "\n",
    "Para representar uma palavra, nós concatenamos todos os vetores de cada letra existentes na palavra. Isso irá gerar uma matrix de 2 dimesões `<tamanho_palavra X 1 X qtde_caracteres>`.\n",
    "\n",
    "Por hora, ignore a dimensão extra."
   ]
  },
  {
   "cell_type": "code",
   "execution_count": 3,
   "metadata": {},
   "outputs": [
    {
     "name": "stdout",
     "output_type": "stream",
     "text": [
      "tensor([[0., 0., 0., 0., 0., 0., 0., 0., 0., 0., 0., 0., 0., 0., 0., 0., 0., 0.,\n",
      "         0., 0., 0., 0., 0., 0., 0., 0., 0., 0., 0., 0., 0., 0., 0., 0., 0., 1.,\n",
      "         0., 0., 0., 0., 0., 0., 0., 0., 0., 0., 0., 0., 0., 0., 0., 0., 0., 0.,\n",
      "         0., 0., 0.]])\n",
      "torch.Size([5, 1, 57])\n"
     ]
    }
   ],
   "source": [
    "import torch\n",
    "\n",
    "# Find letter index from all_letters, e.g. \"a\" = 0\n",
    "def letterToIndex(letter):\n",
    "    return all_letters.find(letter)\n",
    "\n",
    "# Just for demonstration, turn a letter into a <1 x n_letters> Tensor\n",
    "def letterToTensor(letter):\n",
    "    tensor = torch.zeros(1, n_letters)\n",
    "    tensor[0][letterToIndex(letter)] = 1\n",
    "    return tensor\n",
    "\n",
    "# Turn a line into a <line_length x 1 x n_letters>,\n",
    "# or an array of one-hot letter vectors\n",
    "def lineToTensor(line):\n",
    "    tensor = torch.zeros(len(line), 1, n_letters)\n",
    "    for li, letter in enumerate(line):\n",
    "        tensor[li][0][letterToIndex(letter)] = 1\n",
    "    return tensor\n",
    "\n",
    "print(letterToTensor('J'))\n",
    "\n",
    "print(lineToTensor('Jones').size())"
   ]
  },
  {
   "cell_type": "markdown",
   "metadata": {},
   "source": [
    "## Criando a rede neural\n",
    "\n",
    "A rede neural que usaremos é apenas uma rede com duas camadas lineares. \n",
    "\n",
    "A primeira camada `i2h` entrada para hidden (preciso de uma tradução) e `i2o` entrada para saída.\n",
    "Note que o estado intermediário também é usado junto com a entrada para chegar ao fim da computação.\n",
    "\n",
    "Por fim, uma função softmax computa qual idioma é o mais provável para o vetor passado para a função.\n",
    "Esse idioma será a saída final da rede\n"
   ]
  },
  {
   "cell_type": "code",
   "execution_count": 4,
   "metadata": {},
   "outputs": [],
   "source": [
    "import torch.nn as nn\n",
    "\n",
    "class RNN(nn.Module):\n",
    "    def __init__(self, input_size, hidden_size, output_size):\n",
    "        super(RNN, self).__init__()\n",
    "\n",
    "        self.hidden_size = hidden_size\n",
    "\n",
    "        self.i2h = nn.Linear(input_size + hidden_size, hidden_size)\n",
    "        self.i2o = nn.Linear(input_size + hidden_size, output_size)\n",
    "        self.softmax = nn.LogSoftmax(dim=1)\n",
    "\n",
    "    def forward(self, input, hidden):\n",
    "        combined = torch.cat((input, hidden), 1) # concatena o vetor de entrada e o vetor intermediário\n",
    "        hidden = self.i2h(combined)\n",
    "        output = self.i2o(combined)\n",
    "        output = self.softmax(output)\n",
    "        return output, hidden\n",
    "\n",
    "    def initHidden(self):\n",
    "        return torch.zeros(1, self.hidden_size)\n",
    "\n",
    "n_hidden = 128\n",
    "rnn = RNN(n_letters, n_hidden, n_categories)"
   ]
  },
  {
   "cell_type": "markdown",
   "metadata": {},
   "source": [
    "Como um exemplo, como entrada, temos o nome Albert, convertemos ele para um Tensor e criamos uma camada intermediária com um determinado tamanho (`128`). Alimentamos o entrada e estado intermediários para a rede neural e obtemos como saída a probabilidade do nome pertencer a cada um de nossos indiomas.\n",
    "\n",
    "**dúvida:** por que usamos `input[0]` ? "
   ]
  },
  {
   "cell_type": "code",
   "execution_count": 8,
   "metadata": {},
   "outputs": [
    {
     "name": "stdout",
     "output_type": "stream",
     "text": [
      "tensor([[-2.8895, -2.8587, -2.9346, -2.8605, -3.0339, -2.9280, -2.8281, -2.8829,\n",
      "         -2.8812, -2.8681, -2.7793, -2.9313, -2.9502, -2.8657, -2.8786, -2.7950,\n",
      "         -2.9784, -2.9154]], grad_fn=<LogSoftmaxBackward>)\n"
     ]
    }
   ],
   "source": [
    "input = lineToTensor('Albert')\n",
    "hidden = torch.zeros(1, n_hidden)\n",
    "\n",
    "output, next_hidden = rnn(input[0], hidden)\n",
    "print(output)"
   ]
  },
  {
   "cell_type": "markdown",
   "metadata": {},
   "source": [
    "## Treinamento\n",
    "\n",
    "Primeiro, vamos criar alguns funções auxiliares que nos ajudarão durante o treinamento da rede neural.\n",
    "\n",
    "A primeira função interpreta o resultado de saída da rede neural. Basicamente, obter a maior probabilidade do vetor de probabilidades e gerar como saída o idioma que corresponde aquela probabilidade:"
   ]
  },
  {
   "cell_type": "code",
   "execution_count": 9,
   "metadata": {},
   "outputs": [
    {
     "name": "stdout",
     "output_type": "stream",
     "text": [
      "('Spanish', 10)\n"
     ]
    }
   ],
   "source": [
    "def categoryFromOutput(output):\n",
    "    top_n, top_i = output.topk(1)\n",
    "    category_i = top_i[0].item()\n",
    "    return all_categories[category_i], category_i\n",
    "\n",
    "print(categoryFromOutput(output))"
   ]
  },
  {
   "cell_type": "markdown",
   "metadata": {},
   "source": [
    "Também precisamos de uma função que obtenha, de forma rápida, um exemplo para treino"
   ]
  },
  {
   "cell_type": "code",
   "execution_count": 10,
   "metadata": {},
   "outputs": [
    {
     "name": "stdout",
     "output_type": "stream",
     "text": [
      "category = Portuguese / line = Freitas\n",
      "category = Irish / line = Kavanagh\n",
      "category = Vietnamese / line = Dam\n",
      "category = Irish / line = Rinn\n",
      "category = English / line = Will\n",
      "category = Japanese / line = Hotate\n",
      "category = Polish / line = Mikolajczak\n",
      "category = Irish / line = Ceallach\n",
      "category = Arabic / line = Almasi\n",
      "category = Irish / line = Lennon\n"
     ]
    }
   ],
   "source": [
    "import random\n",
    "\n",
    "def randomChoice(l):\n",
    "    return l[random.randint(0, len(l) - 1)]\n",
    "\n",
    "def randomTrainingExample():\n",
    "    category = randomChoice(all_categories)\n",
    "    line = randomChoice(category_lines[category])\n",
    "    category_tensor = torch.tensor([all_categories.index(category)], dtype=torch.long)\n",
    "    line_tensor = lineToTensor(line)\n",
    "    return category, line, category_tensor, line_tensor\n",
    "\n",
    "for i in range(10):\n",
    "    category, line, category_tensor, line_tensor = randomTrainingExample()\n",
    "    print('category =', category, '/ line =', line)"
   ]
  },
  {
   "cell_type": "markdown",
   "metadata": {},
   "source": [
    "### Treinando a rede neural\n",
    "\n",
    "Para treinar a rede neural, precisamos alimentá-la com um considerável número de exemplos e fazê-la advinhar o idioma de cada exemplo. Cada vez que ela fizer isso, como sabemos o idioma de fato daquele nome, nós indicamos se a rede está correta ou não (usando uma função de perda). \n",
    "\n",
    "A cada iteração de treino, a nossa rede neural fará:\n",
    "\n",
    "* Criará entrada e Tensors\n",
    "* Criará uma camada intermediária (inicialmente zerada)\n",
    "* Lerá cada letra da entrada\n",
    "    * Guardará o estado intermediário dessa entrada para a próxima letra\n",
    "* Comparará saída final com o idioma correto\n",
    "* Back-propagate \n",
    "* Retornar a saída e computará a função de perda\n",
    "\n",
    "Como a camada final usa a função de softmax (`LogSoftmax`), uma função de perda adequada é a `NLLLoss`\n",
    "\n",
    "**dúvida:** gostaria de alguma referência ou explicação melhor do motivo"
   ]
  },
  {
   "cell_type": "code",
   "execution_count": 11,
   "metadata": {},
   "outputs": [],
   "source": [
    "criterion = nn.NLLLoss()\n",
    "\n",
    "learning_rate = 0.005 # If you set this too high, it might explode. If too low, it might not learn\n",
    "\n",
    "def train(category_tensor, line_tensor):\n",
    "    hidden = rnn.initHidden()\n",
    "\n",
    "    rnn.zero_grad()\n",
    "\n",
    "    for i in range(line_tensor.size()[0]):\n",
    "        output, hidden = rnn(line_tensor[i], hidden)\n",
    "\n",
    "    loss = criterion(output, category_tensor)\n",
    "    loss.backward()\n",
    "\n",
    "    # Add parameters' gradients to their values, multiplied by learning rate\n",
    "    for p in rnn.parameters():\n",
    "        p.data.add_(-learning_rate, p.grad.data)\n",
    "\n",
    "    return output, loss.item()"
   ]
  },
  {
   "cell_type": "markdown",
   "metadata": {},
   "source": [
    "Agora, que temos nossa função de treino. Vamos usá-la para treinar nossa rede neural:"
   ]
  },
  {
   "cell_type": "code",
   "execution_count": 12,
   "metadata": {},
   "outputs": [
    {
     "name": "stdout",
     "output_type": "stream",
     "text": [
      "5000 5% (0m 9s) 3.0472 Sienkiewicz / Russian ✗ (Polish)\n",
      "10000 10% (0m 19s) 2.0037 Merlo / Portuguese ✗ (Spanish)\n",
      "15000 15% (0m 29s) 3.0279 Petersen / Dutch ✗ (Czech)\n",
      "20000 20% (0m 38s) 1.2778 Jakushev / Russian ✓\n",
      "25000 25% (0m 48s) 2.9042 Zuniga / Japanese ✗ (Spanish)\n",
      "30000 30% (0m 59s) 2.7554 Kershaw / Polish ✗ (English)\n",
      "35000 35% (1m 8s) 2.8765 Sinclair / Russian ✗ (Scottish)\n",
      "40000 40% (1m 19s) 1.0964 Sauvageau / French ✓\n",
      "45000 45% (1m 31s) 0.4155 Scheer / German ✓\n",
      "50000 50% (1m 40s) 1.3385 Ruadh / Irish ✓\n",
      "55000 55% (1m 50s) 2.6639 Dreyer / French ✗ (English)\n",
      "60000 60% (2m 1s) 0.0747 Napoleoni / Italian ✓\n",
      "65000 65% (2m 10s) 0.6082 Schroeter / German ✓\n",
      "70000 70% (2m 19s) 0.3367 Vassilopulos / Greek ✓\n",
      "75000 75% (2m 31s) 0.3287 Mach / Vietnamese ✓\n",
      "80000 80% (2m 42s) 1.2188 Palfrey / English ✓\n",
      "85000 85% (2m 54s) 1.8492 Costa / Spanish ✗ (Portuguese)\n",
      "90000 90% (3m 2s) 1.7322 Schneider / German ✗ (Czech)\n",
      "95000 95% (3m 14s) 0.4754 Kubo / Japanese ✓\n",
      "100000 100% (3m 22s) 0.1635 Antoniadis / Greek ✓\n"
     ]
    }
   ],
   "source": [
    "import time\n",
    "import math\n",
    "\n",
    "n_iters = 100000\n",
    "print_every = 5000\n",
    "plot_every = 1000\n",
    "\n",
    "\n",
    "\n",
    "# Keep track of losses for plotting\n",
    "current_loss = 0\n",
    "all_losses = []\n",
    "\n",
    "def timeSince(since):\n",
    "    now = time.time()\n",
    "    s = now - since\n",
    "    m = math.floor(s / 60)\n",
    "    s -= m * 60\n",
    "    return '%dm %ds' % (m, s)\n",
    "\n",
    "start = time.time()\n",
    "\n",
    "for iter in range(1, n_iters + 1):\n",
    "    category, line, category_tensor, line_tensor = randomTrainingExample()\n",
    "    output, loss = train(category_tensor, line_tensor)\n",
    "    current_loss += loss\n",
    "\n",
    "    # Print iter number, loss, name and guess\n",
    "    if iter % print_every == 0:\n",
    "        guess, guess_i = categoryFromOutput(output)\n",
    "        correct = '✓' if guess == category else '✗ (%s)' % category\n",
    "        print('%d %d%% (%s) %.4f %s / %s %s' % (iter, iter / n_iters * 100, timeSince(start), loss, line, guess, correct))\n",
    "\n",
    "    # Add current loss avg to list of losses\n",
    "    if iter % plot_every == 0:\n",
    "        all_losses.append(current_loss / plot_every)\n",
    "        current_loss = 0"
   ]
  },
  {
   "cell_type": "markdown",
   "metadata": {},
   "source": [
    "### Plotando os resultados\n",
    "\n",
    "Vamos visualizar a função de perda com o passar do tempo:"
   ]
  },
  {
   "cell_type": "code",
   "execution_count": 13,
   "metadata": {},
   "outputs": [
    {
     "data": {
      "text/plain": [
       "[<matplotlib.lines.Line2D at 0x119779588>]"
      ]
     },
     "execution_count": 13,
     "metadata": {},
     "output_type": "execute_result"
    }
   ],
   "source": [
    "import matplotlib.pyplot as plt\n",
    "import matplotlib.ticker as ticker\n",
    "\n",
    "plt.figure()\n",
    "plt.plot(all_losses)"
   ]
  },
  {
   "cell_type": "markdown",
   "metadata": {},
   "source": [
    "## Predição\n",
    "\n",
    "Agora que nossa rede neural foi treinada, vamos definir uma função de predição para que, dado um novo nome, a rede compute qual o idioma daquele nome:"
   ]
  },
  {
   "cell_type": "code",
   "execution_count": 17,
   "metadata": {},
   "outputs": [
    {
     "name": "stdout",
     "output_type": "stream",
     "text": [
      "\n",
      "> Dovesky\n",
      "(-0.27) Russian\n",
      "(-1.67) Czech\n",
      "(-3.96) English\n",
      "\n",
      "> Jackson\n",
      "(-0.37) Scottish\n",
      "(-2.12) English\n",
      "(-2.55) Russian\n",
      "\n",
      "> Satoshi\n",
      "(-0.98) Japanese\n",
      "(-1.47) Arabic\n",
      "(-2.15) Polish\n",
      "\n",
      "> Marques\n",
      "(-0.45) Portuguese\n",
      "(-1.54) Spanish\n",
      "(-2.87) French\n",
      "\n",
      "> Siqueira\n",
      "(-0.49) Portuguese\n",
      "(-2.23) Spanish\n",
      "(-2.79) Japanese\n",
      "\n",
      "> Diego\n",
      "(-0.95) Spanish\n",
      "(-1.46) Portuguese\n",
      "(-2.35) Italian\n",
      "\n",
      "> Sakura\n",
      "(-0.37) Japanese\n",
      "(-1.49) Arabic\n",
      "(-2.96) Czech\n",
      "\n",
      "> Júlio\n",
      "(-1.07) Italian\n",
      "(-1.64) Scottish\n",
      "(-2.00) Korean\n"
     ]
    }
   ],
   "source": [
    "def evaluate(line_tensor):\n",
    "    hidden = rnn.initHidden()\n",
    "\n",
    "    for i in range(line_tensor.size()[0]):\n",
    "        output, hidden = rnn(line_tensor[i], hidden)\n",
    "\n",
    "    return output\n",
    "\n",
    "\n",
    "def predict(input_line, n_predictions=3):\n",
    "    print('\\n> %s' % input_line)\n",
    "    with torch.no_grad():\n",
    "        output = evaluate(lineToTensor(input_line))\n",
    "\n",
    "        # Get top N categories\n",
    "        topv, topi = output.topk(n_predictions, 1, True)\n",
    "        predictions = []\n",
    "\n",
    "        for i in range(n_predictions):\n",
    "            value = topv[0][i].item()\n",
    "            category_index = topi[0][i].item()\n",
    "            print('(%.2f) %s' % (value, all_categories[category_index]))\n",
    "            predictions.append([value, all_categories[category_index]])\n",
    "\n",
    "predict('Dovesky')\n",
    "predict('Jackson')\n",
    "predict('Satoshi')\n",
    "predict('Marques')\n",
    "predict('Siqueira')\n",
    "predict('Diego')\n",
    "predict('Sakura')\n",
    "predict('Júlio')"
   ]
  },
  {
   "cell_type": "markdown",
   "metadata": {},
   "source": [
    "## Próximos passos\n",
    "\n",
    "* Endenter melhor porque apenas duas camadas\n",
    "* Criar uma RNN similar para predizer nome -> gênero"
   ]
  }
 ],
 "metadata": {
  "kernelspec": {
   "display_name": "Python 3",
   "language": "python",
   "name": "python3"
  },
  "language_info": {
   "codemirror_mode": {
    "name": "ipython",
    "version": 3
   },
   "file_extension": ".py",
   "mimetype": "text/x-python",
   "name": "python",
   "nbconvert_exporter": "python",
   "pygments_lexer": "ipython3",
   "version": "3.7.1"
  }
 },
 "nbformat": 4,
 "nbformat_minor": 2
}
